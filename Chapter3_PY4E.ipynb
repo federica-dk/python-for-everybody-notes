{
  "nbformat": 4,
  "nbformat_minor": 0,
  "metadata": {
    "colab": {
      "provenance": [],
      "authorship_tag": "ABX9TyMxF5IHHWZMJ7cVPEkxwGua",
      "include_colab_link": true
    },
    "kernelspec": {
      "name": "python3",
      "display_name": "Python 3"
    },
    "language_info": {
      "name": "python"
    }
  },
  "cells": [
    {
      "cell_type": "markdown",
      "metadata": {
        "id": "view-in-github",
        "colab_type": "text"
      },
      "source": [
        "<a href=\"https://colab.research.google.com/github/federica-dk/python-for-everybody-notes/blob/main/Chapter3_PY4E.ipynb\" target=\"_parent\"><img src=\"https://colab.research.google.com/assets/colab-badge.svg\" alt=\"Open In Colab\"/></a>"
      ]
    },
    {
      "cell_type": "code",
      "execution_count": 2,
      "metadata": {
        "colab": {
          "base_uri": "https://localhost:8080/"
        },
        "id": "9JqKmqY7rkzI",
        "outputId": "dd31bd73-7dc8-45c4-e964-2e35ac09a988"
      },
      "outputs": [
        {
          "output_type": "stream",
          "name": "stdout",
          "text": [
            "4\n",
            "Hello Stanford\n"
          ]
        }
      ],
      "source": [
        "# PY4E Chapter 3 – Conditional Execution\n",
        "\n",
        "# Contants = fixed values\n",
        "\n",
        "print(4) #4 is a constant\n",
        "print('Hello Stanford') #The tring between '' is a constant\n"
      ]
    },
    {
      "cell_type": "code",
      "source": [
        "# Variables are fixed points in memory that are labeled through the variable name and store the value\n",
        "x = 21 #they hold one value\n",
        "print(x)\n",
        "x += 6\n",
        "print(x)\n",
        "#they can only hold one value\n",
        "\n",
        "#the right side is an expression => it is evaluated => then it is assigned\n",
        "x = x / 4\n",
        "print(x)"
      ],
      "metadata": {
        "colab": {
          "base_uri": "https://localhost:8080/"
        },
        "id": "7GI5S7l6xTTR",
        "outputId": "7ea3bb68-beab-4301-d7d4-a374e6c2a207"
      },
      "execution_count": 5,
      "outputs": [
        {
          "output_type": "stream",
          "name": "stdout",
          "text": [
            "21\n",
            "27\n",
            "6.75\n"
          ]
        }
      ]
    },
    {
      "cell_type": "code",
      "source": [
        "# EXPRESSIONS\n",
        "#addition\n",
        "xx = 2\n",
        "xx += 2\n",
        "print(xx)\n",
        "#multiplication\n",
        "xx = xx * 12\n",
        "print(xx)\n",
        "#division\n",
        "xx = xx / 6\n",
        "print(xx)\n",
        "#power\n",
        "xx = xx *3\n",
        "print(xx)\n",
        "#modulus(outputs remainder)\n",
        "xx = xx % 7\n",
        "print(xx)\n",
        "\n",
        "# Operator precedence Parenthesis =>  Power => Multiplication => Addition => left to right\n"
      ],
      "metadata": {
        "colab": {
          "base_uri": "https://localhost:8080/"
        },
        "id": "YU0jt-O5yo_h",
        "outputId": "10196338-1b2e-4fbd-829e-b44b749e58cb"
      },
      "execution_count": 7,
      "outputs": [
        {
          "output_type": "stream",
          "name": "stdout",
          "text": [
            "4\n",
            "48\n",
            "8.0\n",
            "24.0\n",
            "3.0\n"
          ]
        }
      ]
    },
    {
      "cell_type": "code",
      "source": [
        "# Variable types\n",
        "# concatenate = jpining two strings with + operator\n",
        "# you cannot add two different data types ex: 1+ 'hello' outputs an error\n",
        "# you can pass type() function in otder to know what type the variable is\n",
        "eee = 'hi'\n",
        "eeee = 1\n",
        "print(type(eeee),type(eee))\n",
        "#Floats are decimal numbers and you can convert between intergers and floats\n",
        "x = 9\n",
        "y = float(x) + 5.6\n",
        "print(y)\n",
        "print(int(y)) #rounds the value of y to 14\n",
        "x = 9.0 + 4 # as seen here the operator will automatically result in a float if both an interger and float are present as inputs\n",
        "print(x)\n",
        "\n",
        "#DIVISION => interger division always produces a FLOAT\n",
        "yy = 9 / 2\n",
        "print(yy)\n",
        "yy = 16 / 8\n",
        "print(yy)\n",
        "\n",
        "# STRING CONVERSIONS\n",
        "# strings can be converted to int only if the string is an interger\n",
        "x = int(\"123\") + 2\n",
        "print(x)"
      ],
      "metadata": {
        "colab": {
          "base_uri": "https://localhost:8080/"
        },
        "id": "UOrSPwiL09Zq",
        "outputId": "828eb570-2a90-4741-e537-8285fada440b"
      },
      "execution_count": 16,
      "outputs": [
        {
          "output_type": "stream",
          "name": "stdout",
          "text": [
            "<class 'int'> <class 'str'>\n",
            "14.6\n",
            "14\n",
            "13.0\n",
            "4.5\n",
            "2.0\n",
            "125\n"
          ]
        }
      ]
    },
    {
      "cell_type": "code",
      "source": [
        "#INPUT function => built in => pass a prompt that encourages the user to type => then assigns the input to a variable\n",
        "nam = input('Who are you? ')\n",
        "print('Welcome', nam) #inputs are always strings"
      ],
      "metadata": {
        "colab": {
          "base_uri": "https://localhost:8080/"
        },
        "id": "8TFzssMK09OO",
        "outputId": "b9ebc48c-69cc-4920-c026-46ac2ed55777"
      },
      "execution_count": 19,
      "outputs": [
        {
          "output_type": "stream",
          "name": "stdout",
          "text": [
            "Who are you? fede\n",
            "Welcome fede\n"
          ]
        }
      ]
    },
    {
      "cell_type": "code",
      "source": [
        "# FIRST PROGRAM => ELEVATOR FLOOR CONVERSION\n",
        "inp = input('Enter Europe floor: ') #input is a string so you have to convert it to an interger\n",
        "usf = int(inp) + 1\n",
        "print('US floor', usf)\n"
      ],
      "metadata": {
        "colab": {
          "base_uri": "https://localhost:8080/"
        },
        "id": "c_bpoY1W3OMQ",
        "outputId": "ec4cdbb8-3287-4047-a184-2da7963d0ef4"
      },
      "execution_count": 20,
      "outputs": [
        {
          "output_type": "stream",
          "name": "stdout",
          "text": [
            "Enter Europe floor: 8\n",
            "US floor 9\n"
          ]
        }
      ]
    },
    {
      "cell_type": "code",
      "source": [
        "#Program Self-assessment 1:\n",
        "name = input(\"Enter your name, \")\n",
        "print(\"Hello\", name)"
      ],
      "metadata": {
        "colab": {
          "base_uri": "https://localhost:8080/"
        },
        "id": "TUFjN7EW706Z",
        "outputId": "b22873e2-094b-4a99-d80b-adde2f1cb00a"
      },
      "execution_count": 21,
      "outputs": [
        {
          "output_type": "stream",
          "name": "stdout",
          "text": [
            "Enter your name, Fede\n",
            "Hello Fede\n"
          ]
        }
      ]
    },
    {
      "cell_type": "code",
      "source": [
        "#Program Self-assesment 2:\n",
        "hrs = input(\"Enter Hours: \")\n",
        "rph = input(\"Enter Rate Per Hour: \")\n",
        "gross_pay = int(hrs) * float(rph)\n",
        "print(\"Pay:\", gross_pay)"
      ],
      "metadata": {
        "id": "Xe9rCL0Q8Zf_"
      },
      "execution_count": null,
      "outputs": []
    }
  ]
}