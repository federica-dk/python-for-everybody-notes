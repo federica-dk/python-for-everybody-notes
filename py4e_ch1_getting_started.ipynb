{
  "nbformat": 4,
  "nbformat_minor": 0,
  "metadata": {
    "colab": {
      "provenance": [],
      "authorship_tag": "ABX9TyOH1Yy1qy4m/TedzHLcq0gk",
      "include_colab_link": true
    },
    "kernelspec": {
      "name": "python3",
      "display_name": "Python 3"
    },
    "language_info": {
      "name": "python"
    }
  },
  "cells": [
    {
      "cell_type": "markdown",
      "metadata": {
        "id": "view-in-github",
        "colab_type": "text"
      },
      "source": [
        "<a href=\"https://colab.research.google.com/github/federica-dk/python-for-everybody-notes/blob/main/py4e_ch1_getting_started.ipynb\" target=\"_parent\"><img src=\"https://colab.research.google.com/assets/colab-badge.svg\" alt=\"Open In Colab\"/></a>"
      ]
    },
    {
      "cell_type": "code",
      "execution_count": null,
      "metadata": {
        "colab": {
          "base_uri": "https://localhost:8080/"
        },
        "id": "NzSTMGtd5-dD",
        "outputId": "a45ee8e6-20ba-4ee9-eb3f-493dac0b4dae"
      },
      "outputs": [
        {
          "output_type": "stream",
          "name": "stdout",
          "text": [
            "Hello, world! My favorite number is: 21\n"
          ]
        }
      ],
      "source": [
        "# Chapter 2: Why we program\n",
        "#### 📘 Course: Python for Everybody\n",
        "#### 🧠 Author: Federica D’Alvano | 🗓️ Date: 2025 / 06 / 10\n",
        "\n",
        "## 🧩 Concepts Covered\n",
        "\n",
        "\n",
        "## 🔍 Notes & Explanations\n",
        "\n",
        "\n",
        "# Example code from the lecture\n",
        "x = 5\n",
        "x += 16\n",
        "print(f'Hello, world! My favorite number is: {x}')"
      ]
    }
  ]
}